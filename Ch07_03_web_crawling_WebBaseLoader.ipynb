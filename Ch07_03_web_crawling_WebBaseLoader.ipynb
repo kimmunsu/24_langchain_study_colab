{
  "nbformat": 4,
  "nbformat_minor": 0,
  "metadata": {
    "colab": {
      "provenance": [],
      "authorship_tag": "ABX9TyPN6dZEg1GblV5JEHrs29bC",
      "include_colab_link": true
    },
    "kernelspec": {
      "name": "python3",
      "display_name": "Python 3"
    },
    "language_info": {
      "name": "python"
    }
  },
  "cells": [
    {
      "cell_type": "markdown",
      "metadata": {
        "id": "view-in-github",
        "colab_type": "text"
      },
      "source": [
        "<a href=\"https://colab.research.google.com/github/kimmunsu/24_langchain_study_colab/blob/main/Ch07_03_web_crawling_WebBaseLoader.ipynb\" target=\"_parent\"><img src=\"https://colab.research.google.com/assets/colab-badge.svg\" alt=\"Open In Colab\"/></a>"
      ]
    },
    {
      "cell_type": "code",
      "source": [
        "%pip install -qU langchain\n",
        "%pip install -qU nest-asyncio\n",
        "import nest_asyncio\n",
        "nest_asyncio.apply() # Jupyter Notebook 의 이벤트 루프를 가져옵니다. (https://colab.research.google.com/drive/1YLjv3px-pVPlXtJv1hurzL9Fp3fZBJZI#scrollTo=BmjmSyYngnF1&line=7&uniqifier=1)"
      ],
      "metadata": {
        "id": "Z6RtUxEH_NWR"
      },
      "execution_count": null,
      "outputs": []
    },
    {
      "cell_type": "markdown",
      "source": [
        "WebBaseLoader는 HTML 웹페이지의 모든 텍스트를 추출 하여, 다양한 용도로 활용할 수 있는 문서 형태로 변환하는 기능을 가진 도구입니다.\n",
        "\n",
        "보다 특정한 사용 사례나 데이터 소스에 최적화된 로직을 적용하기 위해서는, WebBaseLoader의 자식 클래스들을 사용할 수 있습니다. 예를 들어, IMSDbLoader는 영화 대본을 다루는 IMSDb 웹사이트에서 데이터를 로드하는 데 특화되어 있으며, AZLyricsLoader는 가사 정보를 제공하는 AZLyrics 웹사이트의 텍스트를 추출하는 데 사용됩니다. CollegeConfidentialLoader는 대학 커뮤니티 포럼인 CollegeConfidential에서 데이터를 가져오는 데 최적화되어 있습니다.\n",
        "\n",
        "이러한 자식 클래스들은 WebBaseLoader가 제공하는 기본적인 텍스트 로딩 기능에 추가적인 처리 또는 웹사이트별 데이터 구조에 맞는 파싱 로직을 적용하여, 특정 웹사이트의 구조와 내용에 더 잘 맞는 데이터 추출 방법을 제공합니다. 이를 통해, 사용자는 웹에서 정보를 효율적으로 수집하고, 다양한 분석이나 애플리케이션에 필요한 형식으로 쉽게 변환할 수 있습니다.\n",
        "\n",
        "- WebBaseLoader를 사용하여 웹 페이지를 로드합니다.\n",
        "- 한글이 깨져서 로드되는 경우 아래와 같이 인코딩(encoding=\"utf-8\") 옵션을 지정합니다.\n"
      ],
      "metadata": {
        "id": "iS_tEq5PqtBG"
      }
    },
    {
      "cell_type": "code",
      "execution_count": null,
      "metadata": {
        "id": "hemycl-uqqG0"
      },
      "outputs": [],
      "source": [
        "from langchain_community.document_loaders import WebBaseLoader\n",
        "\n",
        "# 웹 페이지 \"https://news.naver.com/\"에서 데이터를 로드하는 WebBaseLoader 객체를 생성합니다.\n",
        "loader = WebBaseLoader(\"https://news.naver.com/\")\n",
        "\n",
        "# 한글이 깨져서 로드되는 경우 아래와 같이 인코딩을 지정합니다.\n",
        "# loader = WebBaseLoader(\"https://news.naver.com/\", encoding=\"utf-8\")"
      ]
    },
    {
      "cell_type": "markdown",
      "source": [
        "SSL 인증서 검증 오류를 우회하기 위해 데이터를 가져오는 동안 \"verify\" 옵션을 설정할 수 있습니다.\n",
        "\n",
        "- 이렇게 하면 SSL 인증서 검증 과정을 건너뛰고 데이터를 가져올 수 있습니다. 하지만 이 방법은 보안상의 이유로 권장되지 않습니다. 가능하다면 올바른 SSL 인증서를 사용하는 것이 좋습니다."
      ],
      "metadata": {
        "id": "RYetTRyNrAxY"
      }
    },
    {
      "cell_type": "code",
      "source": [
        "# SSL 인증서 오류 우회\n",
        "loader.requests_kwargs = {\"verify\": False}"
      ],
      "metadata": {
        "id": "difbaGVerJXV"
      },
      "execution_count": null,
      "outputs": []
    },
    {
      "cell_type": "markdown",
      "source": [
        "loader.load() 메서드를 호출하여 데이터를 로드합니다."
      ],
      "metadata": {
        "id": "0n_Li602qsPe"
      }
    },
    {
      "cell_type": "code",
      "source": [
        "# 로더를 사용하여 데이터를 불러옵니다.\n",
        "web_data = loader.load()\n",
        "# 불러온 데이터를 출력합니다.\n",
        "print(web_data[0].page_content[2000:2500].replace(\"\\n\", \"\"))"
      ],
      "metadata": {
        "colab": {
          "base_uri": "https://localhost:8080/"
        },
        "id": "T4wbLahFrNDU",
        "outputId": "5216f84a-3219-4933-8392-54c2893a9369"
      },
      "execution_count": null,
      "outputs": [
        {
          "output_type": "stream",
          "name": "stderr",
          "text": [
            "/usr/local/lib/python3.10/dist-packages/urllib3/connectionpool.py:1100: InsecureRequestWarning: Unverified HTTPS request is being made to host 'news.naver.com'. Adding certificate verification is strongly advised. See: https://urllib3.readthedocs.io/en/latest/advanced-usage.html#tls-warnings\n",
            "  warnings.warn(\n"
          ]
        },
        {
          "output_type": "stream",
          "name": "stdout",
          "text": [
            "서 YTN05월 12일 22:22구독동영상재생시간02:10명품 가방 건넨 목사 내일 소환...\"취재 활동\" 주장김건희 여사의 명품 가방 수수 의혹을 조사하는 검찰이 의혹의 핵심 인물인 최재영 목사를 내일(13일) 불러 조사할 예정입니다. 오는 20일이면 김 여사를 제외한 사건 관계인에 대한 조사를 마무리하는 가운데, 김 여사블로터05월 12일 20:13구독유한양행 성장 이끄는 YIP…김열홍 사장의 승부수김열홍 유한양행 연구개발(R&D) 총괄사장은 유한양행 성장 가능성을 주도하는 인물 중 하나다. 이러한 김열홍 사장이 야심차게 도입한 유한 이노베이션 프로그램(Yuhan Innovation Program, YIP)은 새로보기더스쿠프05월 12일 19:27구독\"여행 갔더니 숙소가 없다?\" 고객 바보 만드는 숙박앱의 그림자# 야놀자·여기어때·부킹닷\n"
          ]
        }
      ]
    },
    {
      "cell_type": "markdown",
      "source": [
        "BeautifulSoup을 사용하여 새로운 사용자 정의 웹 페이지 파서를 활용할 수 있습니다.\n",
        "\n",
        "- 예시로 soup.select_one(\"td[class='scrtext']\").text와 같은 코드를 사용하여 원하는 요소를 선택하고 텍스트를 추출할 수 있습니다.\n",
        "- BS4 문서에서 더욱 자세한 내용을 확인할 수 있습니다."
      ],
      "metadata": {
        "id": "M6XzDkI1rRFI"
      }
    },
    {
      "cell_type": "code",
      "source": [
        "import requests\n",
        "from bs4 import BeautifulSoup\n",
        "\n",
        "html_doc = requests.get(\"https://news.naver.com/\")\n",
        "soup = BeautifulSoup(html_doc.text, \"html.parser\")\n",
        "\n",
        "# 예제 코드\n",
        "# soup.select_one(\"td[class='scrtext']\").text"
      ],
      "metadata": {
        "id": "p8827n64rVOd"
      },
      "execution_count": null,
      "outputs": []
    },
    {
      "cell_type": "code",
      "source": [
        "# body 태그의 내용을 출력합니다.\n",
        "print(soup.select_one(\"body\").text.replace(\"\\n\", \"\")[:1000])"
      ],
      "metadata": {
        "colab": {
          "base_uri": "https://localhost:8080/"
        },
        "id": "nk0FOpRhrYT9",
        "outputId": "b89e2008-7748-4729-effc-ce8f1d50f696"
      },
      "execution_count": null,
      "outputs": [
        {
          "output_type": "stream",
          "name": "stdout",
          "text": [
            "본문 바로가기NAVER뉴스연예스포츠날씨프리미엄검색언론사별정치경제사회생활/문화IT/과학세계랭킹신문보기오피니언TV팩트체크알고리즘 안내정정보도 모음콘텐츠5.12(일)전체 언론사뉴스스탠드라이브러리언론사편집기자                                            연재                                                            구독설정                                더스쿠프05월 12일 19:27구독\"여행 갔더니 숙소가 없다?\" 고객 바보 만드는 숙박앱의 그림자# 야놀자·여기어때·부킹닷컴…. 숙박앱은 이제 관광산업에서 빼려야 뺄 수 없는 플랫폼으로 성장했습니다. 숙소 예약은 물론이고 비행기 티켓, 레저시설까지 관광산업 전반을 아우르고 있어서입니다. 이제 여행계획을 세우려면문화일보05월 12일 22:14구독‘유아 흡연’ 상징 알디 담배 끊었다…“의사 돼 사람들 건강 지키고 싶다”금연 초반 어지러움증 호소했지만 재활 성공…“담배보단 초콜릿” 2010년 인도네시아 남수마트라 섬에 살며 2살 나이로 담배를 피우는 동영상이 공개돼 국제적 파장을 낳았던 알디 리잘(16) 군이 2차례 재활 끝에 금연한겨레05월 12일 22:24구독파타야서 ‘범죄도시’ 닮은 한국인 납치살해…드럼통에 사체 숨겨타이의 국제적 관광지인 파타야에서 한국인 남성 사체가 드럼통에서 발견돼, 타이 경찰이 관련 용의자인 한국인들을 쫓고 있다. 12일 타이 현지 언론 까오솟 등의 보도를 보면, 파타야의 한 저수지에서 수거된 시멘트로 채아이뉴스2405월 12일 21:55구독아무것도 안해야 1등…한강서 90분간 열린 '멍때리기' 대회'아무것도 안 하고 싶다. 이미 아무것도 안 하고 있지만, 더 격렬하게 아무것도 안 하고 싶다' 아무 생각없이 오래 있으면 1등하는 '멍때리기' 대회가 열렸다. 12일 오후 4시 서울 서초구 반포한강공원 잠수교에서 연합뉴스05월 12일 22:31구독의사 출신 김해시장, 경로잔치 행사서 쓰러진 시민\n"
          ]
        }
      ]
    },
    {
      "cell_type": "markdown",
      "source": [
        "여러 개의 웹페이지를 한 번에 로드하려면 로더에 URL 리스트를 전달하면 됩니다. 이렇게 하면 전달된 URL과 동일한 순서로 문서 리스트가 반환됩니다.\n",
        "\n",
        "WebBaseLoader를 사용하여 여러 웹페이지를 로드해 봅시다."
      ],
      "metadata": {
        "id": "OdZncPri_gYa"
      }
    },
    {
      "cell_type": "code",
      "source": [
        "# 웹 페이지 URL 목록을 사용하여 WebBaseLoader 객체를 생성합니다.\n",
        "loader = WebBaseLoader([\"https://news.naver.com/\", \"https://news.daum.net\"])\n",
        "docs = loader.load()  # 지정된 웹 페이지에서 문서를 로드합니다.\n",
        "# 로드된 문서를 출력합니다.\n",
        "print(\"Naver\")\n",
        "print(docs[0].page_content.replace(\"\\n\", \"\")[200:1000])\n",
        "print(\"===\" * 20)\n",
        "print(\"Daum\")\n",
        "print(docs[1].page_content.replace(\"\\n\", \"\")[:1000])"
      ],
      "metadata": {
        "colab": {
          "base_uri": "https://localhost:8080/"
        },
        "id": "vczLjgmb_hlA",
        "outputId": "0b264000-0e6b-46e0-ec3f-7bfa43826920"
      },
      "execution_count": null,
      "outputs": [
        {
          "output_type": "stream",
          "name": "stdout",
          "text": [
            "Naver\n",
            "                        구독설정                                여성신문05월 12일 18:55구독교제폭력 하루 평균 38건...“양형기준 재정비, 예방 강화해야”강남역 교제살인을 계기로 교제폭력 피해자를 보호하기 위한 법적 근거를 만들어야 한다는 전문가들의 목소리에 힘이 실리고 있다. 폭력에 관한 여성 인식이 높아지면서 교제폭력 신고와 검거 또한 늘어 교제폭력 수사체계뿐 아아이뉴스2405월 12일 21:55구독아무것도 안해야 1등…한강서 90분간 열린 '멍때리기' 대회'아무것도 안 하고 싶다. 이미 아무것도 안 하고 있지만, 더 격렬하게 아무것도 안 하고 싶다' 아무 생각없이 오래 있으면 1등하는 '멍때리기' 대회가 열렸다. 12일 오후 4시 서울 서초구 반포한강공원 잠수교에서 CJB청주방송05월 12일 20:52구독“아이스 커피 절대 안 사 먹는다” 바로 납득 가는 ‘카페 제빙기’ 위생 상태기온이 오르면서 ‘아이스 음료’ 찾는 분들 많은데요. 카페나 음식점에서 주로 사용하는 제빙기의 처참한 내부가 공개돼 화제입니다. 유튜브 채널 ‘나는 영업인이다’에는 ‘제빙기 청소하는 사장님이 아이스 커피를 절대로 안디지털데일리05월 12일 13:51구독[e모션] ‘페이커’ 이상혁 “G2전 내 실수 많았다… 믿고 이겨낸 것 의미”치열한 혈투 끝에 상위 라운드에 진출한 ‘페이커’ 이상혁(T1)이 G2 e스포츠전 경험을 토대로 빌리빌리게이밍(BLG)과의 맞대결을 준비하겠다고 밝혔다. T1은 10일 중국 청두 파이낸셜 시티 공연 예술 센터에서 열뉴스105월 12일 22:23구독카페 제\n",
            "============================================================\n",
            "Daum\n",
            "홈 | 다음뉴스본문 바로가기메뉴 바로가기뉴스관련 서비스연예스포츠 뉴스 메인메뉴홈사회정치경제국제문화IT연재포토팩트체크홈이슈 기사 목록사회                                    기피시설이던 화장장…너도 나도 ‘유치 경쟁’                                사회                                    \"2천명 논의·근거 없었다\" vs \"2035년 1만명 부족 꾸준히 언급\"                                정치                                    불붙는 ‘라인사태’…“매국 尹정부” vs “반일 선동”                                사회                                    광주 '광천선 신설안' 추진..터미널·야구장 지나                                사회                                    \"수확량 절반으로 뚝\"...이상기후에 애타는 농민                                문화                                    이틀간 산간 100mm 이상 비...모레(14)까지 맑음                                국제                                    美 지원 무기 도착 전에…우크라 전선 넓힌 러시아                                정치                                    55년 영공 지킨 ‘팬텀’ 마지막 순례 동행 취재                                사회                                    멍 때리기 대회·꽃축제 '볼거리'…맑은 날씨에 나들이객 '북적'                                문화                           \n"
          ]
        }
      ]
    },
    {
      "cell_type": "markdown",
      "source": [
        "여러 URL을 동시에 스크래핑하고 파싱하는 방법은 스크래핑 프로세스의 속도를 상당히 향상시킬 수 있는 효과적인 방법입니다. 이를 통해, 다량의 데이터를 빠르게 수집할 수 있으며, 작업의 효율성을 크게 개선할 수 있습니다.\n",
        "\n",
        "기본적으로 동시 요청의 수는 초당 2개로 제한되어 있으나, requests_per_second 매개변수를 조정하여 이 제한을 변경할 수 있습니다. 이는 특히 스크래핑하는 서버를 직접 관리하거나, 서버 부하에 대해 우려하지 않는 경우 유용할 수 있습니다.\n",
        "\n",
        "그러나, 동시 요청 수를 무리하게 늘리는 것은 서버에 과부하 ** 줄 수 있으며, 이로 인해 스크래핑 대상 웹사이트에서 차단당할 위험을 증가시킵니다. 스크래핑 작업을 수행할 때는 항상 해당 웹사이트의 이용 약관을 확인하고, 과도한 부하를 주지 않도록 주의를 기울여야 합니다. 만약 가능하다면, API를 통한 데이터 접근을 우선 고려하는 것도 좋은 방법입니다.\n",
        "\n",
        "requests_per_second 속성을 1로 설정하여 초당 요청 수를 제한합니다.\n",
        "aload() 메서드를 호출하여 비동기적으로 웹 페이지 데이터를 로드하고 docs 변수에 할당합니다.\n"
      ],
      "metadata": {
        "id": "C8StvJso_qYT"
      }
    },
    {
      "cell_type": "code",
      "source": [
        "# 웹 페이지 URL 목록을 사용하여 WebBaseLoader 객체를 생성합니다.\n",
        "loader = WebBaseLoader([\"https://news.naver.com/\", \"https://news.daum.net\"])\n",
        "loader.requests_per_second = 1  # 초당 요청 수를 1로 설정합니다.\n",
        "docs = loader.aload()  # 지정된 웹 페이지에서 문서를 로드합니다.\n",
        "# 로드된 문서를 출력합니다.\n",
        "print(\"Naver\")\n",
        "print(docs[0].page_content.replace(\"\\n\", \"\")[200:1000])\n",
        "print(\"===\" * 20)\n",
        "print(\"Daum\")\n",
        "print(docs[1].page_content.replace(\"\\n\", \"\")[:1000])\n"
      ],
      "metadata": {
        "colab": {
          "base_uri": "https://localhost:8080/"
        },
        "id": "o1g-1rML_rGM",
        "outputId": "d9df58d5-3e07-4c9f-ec9f-dc95623787ae"
      },
      "execution_count": null,
      "outputs": [
        {
          "output_type": "stream",
          "name": "stderr",
          "text": [
            "Fetching pages: 100%|##########| 2/2 [00:01<00:00,  1.49it/s]\n"
          ]
        },
        {
          "output_type": "stream",
          "name": "stdout",
          "text": [
            "Naver\n",
            "                        구독설정                                조선비즈05월 12일 22:26구독‘明心 의장’ 지명하고 당대표 연임 추진하는 민주더불어민주당이 오는 8월 전당대회를 앞두고 이재명 대표 연임·추대 여론을 조성하고 있다. ‘개딸 공천’ 파동에도 4·10 총선에서 압승했고, 이 대표 외엔 차기 대선 주자가 없다는 이유다. 원내대표·국회의장 후보 단신동아05월 12일 09:13구독이재명 ‘25만 원 민생회복지원금’? 국가 타락시키는 일!극도의 평등 정신은 ‘독재’로 이어진다 ● 이재명, 왜 그토록 ‘지역화폐 현금 지급’ 집착하나 ● 복지 탈 쓴 ‘현금 살포’, 민주주의 부패케 해 ● 몽테스키외 “완전한 평등, 국고 파탄으로 이어져” ● “인민에게 강원도민일보05월 12일 19:56구독강릉 관광유람선서 2명 추락… 60대 남성 사망강릉 관광유람선에서 60대 남성이 바다에 빠져 심정지 상태로 병원으로 이송됐으나 끝내 사망했다. 12일 강원특별자치도소방본부에 따르면 이날 오후 2시 31분쯤 주문진관광유람선에 타고 있던 60대 남성과 40대 남성이TV조선05월 12일 21:05구독동영상재생시간01:42'의대증원' 근거…\"아산병원 간호사 사망\" \"의사 연봉 2억3천만원\"의정갈등이 여전한 가운데 의대증원 문제가 이번주 중대 고비를 맞습니다. 의대증원에 반대하는 의대교수 등이 낸 집행정지 가처분 신청을 법원이 받아들일지 여부가 결정됩니다. 정부는 중원이 필요한 근거 자료로 서울아산병원경기일보05월 12일 22:05구독수원 황구지천 무리한 준설… 야생생물 보금자리 삼켰다\n",
            "============================================================\n",
            "Daum\n",
            "홈 | 다음뉴스본문 바로가기메뉴 바로가기뉴스관련 서비스연예스포츠 뉴스 메인메뉴홈사회정치경제국제문화IT연재포토팩트체크홈이슈 기사 목록사회                                    기피시설이던 화장장…너도 나도 ‘유치 경쟁’                                사회                                    \"2천명 논의·근거 없었다\" vs \"2035년 1만명 부족 꾸준히 언급\"                                정치                                    불붙는 ‘라인사태’…“매국 尹정부” vs “반일 선동”                                사회                                    광주 '광천선 신설안' 추진..터미널·야구장 지나                                사회                                    \"수확량 절반으로 뚝\"...이상기후에 애타는 농민                                문화                                    이틀간 산간 100mm 이상 비...모레(14)까지 맑음                                국제                                    美 지원 무기 도착 전에…우크라 전선 넓힌 러시아                                정치                                    55년 영공 지킨 ‘팬텀’ 마지막 순례 동행 취재                                사회                                    멍 때리기 대회·꽃축제 '볼거리'…맑은 날씨에 나들이객 '북적'                                문화                           \n"
          ]
        }
      ]
    },
    {
      "cell_type": "markdown",
      "source": [
        "**XML 파일 로드**\n",
        "\n",
        "SitemapLoader 는 웹사이트의 사이트맵 파일을 로드하고 파싱하기 위한 도구입니다. 사이트맵은 웹사이트의 페이지들이 어떻게 구성되어 있는지를 XML 형식으로 정리한 파일로, 검색 엔진이 웹사이트의 구조를 더 쉽게 이해하고 페이지들을 효율적으로 크롤링할 수 있도록 도와줍니다. 따라서 SitemapLoader를 사용하여 사이트맵을 로드하고 파싱하는 것은 웹사이트의 구조를 분석하거나 특정 페이지들에 대한 정보를 수집하는 데 매우 유용합니다.\n",
        "\n",
        "WebBaseLoader를 사용하여 웹 페이지(https://www.govinfo.gov/content/pkg/CFR-2018-title10-vol3/xml/CFR-2018-title10-vol3-sec431-86.xml)에서 데이터를 로드합니다.\n",
        "default_parser를 \"xml\"로 설정합니다.\n"
      ],
      "metadata": {
        "id": "rq6MpWv5AmoS"
      }
    },
    {
      "cell_type": "code",
      "source": [
        "loader = WebBaseLoader(\n",
        "    # 웹 기반 로더를 사용하여 XML 문서를 로드합니다.\n",
        "    \"https://www.govinfo.gov/content/pkg/CFR-2018-title10-vol3/xml/CFR-2018-title10-vol3-sec431-86.xml\"\n",
        ")\n",
        "loader.default_parser = \"xml\"  # 기본 파서를 XML로 설정합니다.\n",
        "docs = loader.load()  # 문서를 로드합니다.\n",
        "\n",
        "# 로드된 문서를 출력합니다.\n",
        "print(docs[0].page_content[:1000].replace(\"\\n\", \"\"))\n"
      ],
      "metadata": {
        "colab": {
          "base_uri": "https://localhost:8080/"
        },
        "id": "7OX6BG3DArEF",
        "outputId": "8b6d00d0-8dff-4796-8980-02c0c304baa8"
      },
      "execution_count": null,
      "outputs": [
        {
          "output_type": "stream",
          "name": "stdout",
          "text": [
            "10Energy32018-01-012018-01-01falseUniform test method for the measurement of energy efficiency of commercial packaged boilers.Â§ 431.86Section Â§ 431.86EnergyDEPARTMENT OF ENERGYENERGY CONSERVATIONENERGY EFFICIENCY PROGRAM FOR CERTAIN COMMERCIAL AND INDUSTRIAL EQUIPMENTCommercial Packaged BoilersTest Procedures§ 431.86Uniform test method for the measurement of energy efficiency of commercial packaged boilers.(a) Scope. This section provides test procedures, pursuant to the Energy Policy and Conservation Act (EPCA), as amended, which must be followed for measuring the combustion efficiency and/or thermal efficiency of a gas- or oil-fired commercial packaged boiler.(b) Testing and Calculations. Determine the thermal efficiency or combustion efficiency of commercial packaged boilers by conducting the appropriate test procedure(s) indicated in Table 1 of this section.Table 1—Test Requirements for Commercial Packaged Boiler Equipment ClassesEquipment categorySu\n"
          ]
        }
      ]
    }
  ]
}