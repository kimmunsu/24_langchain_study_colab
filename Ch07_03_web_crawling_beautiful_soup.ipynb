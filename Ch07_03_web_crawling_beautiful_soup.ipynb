{
  "nbformat": 4,
  "nbformat_minor": 0,
  "metadata": {
    "colab": {
      "provenance": [],
      "authorship_tag": "ABX9TyMzjRRtmg2tei6YAxYgQUVV",
      "include_colab_link": true
    },
    "kernelspec": {
      "name": "python3",
      "display_name": "Python 3"
    },
    "language_info": {
      "name": "python"
    }
  },
  "cells": [
    {
      "cell_type": "markdown",
      "metadata": {
        "id": "view-in-github",
        "colab_type": "text"
      },
      "source": [
        "<a href=\"https://colab.research.google.com/github/kimmunsu/24_langchain_study_colab/blob/main/Ch07_03_web_crawling_beautiful_soup.ipynb\" target=\"_parent\"><img src=\"https://colab.research.google.com/assets/colab-badge.svg\" alt=\"Open In Colab\"/></a>"
      ]
    },
    {
      "cell_type": "code",
      "source": [
        "%pip install -qU langchain\n",
        "%pip install -qU  playwright beautifulsoup4\n",
        "! playwright install\n",
        "%pip install -qU nest-asyncio\n",
        "import nest_asyncio\n",
        "nest_asyncio.apply() # Jupyter Notebook 의 이벤트 루프를 가져옵니다. (https://colab.research.google.com/drive/1YLjv3px-pVPlXtJv1hurzL9Fp3fZBJZI#scrollTo=BmjmSyYngnF1&line=7&uniqifier=1)"
      ],
      "metadata": {
        "colab": {
          "base_uri": "https://localhost:8080/"
        },
        "id": "_oI2ruD1oFOL",
        "outputId": "570daf0d-8c98-4320-9faa-3f493b11c0ad"
      },
      "execution_count": null,
      "outputs": [
        {
          "output_type": "stream",
          "name": "stdout",
          "text": [
            "Playwright Host validation warning: \n",
            "╔══════════════════════════════════════════════════════╗\n",
            "║ Host system is missing dependencies to run browsers. ║\n",
            "║ Missing libraries:                                   ║\n",
            "║     libwoff2dec.so.1.0.2                             ║\n",
            "║     libgstgl-1.0.so.0                                ║\n",
            "║     libgstcodecparsers-1.0.so.0                      ║\n",
            "║     libharfbuzz-icu.so.0                             ║\n",
            "║     libenchant-2.so.2                                ║\n",
            "║     libsecret-1.so.0                                 ║\n",
            "║     libhyphen.so.0                                   ║\n",
            "║     libmanette-0.2.so.0                              ║\n",
            "╚══════════════════════════════════════════════════════╝\n",
            "    at validateDependenciesLinux (/usr/local/lib/python3.10/dist-packages/playwright/driver/package/lib/server/registry/dependencies.js:216:9)\n",
            "\u001b[90m    at process.processTicksAndRejections (node:internal/process/task_queues:95:5)\u001b[39m\n",
            "    at async Registry._validateHostRequirements (/usr/local/lib/python3.10/dist-packages/playwright/driver/package/lib/server/registry/index.js:587:43)\n",
            "    at async Registry._validateHostRequirementsForExecutableIfNeeded (/usr/local/lib/python3.10/dist-packages/playwright/driver/package/lib/server/registry/index.js:685:7)\n",
            "    at async Registry.validateHostRequirementsForExecutablesIfNeeded (/usr/local/lib/python3.10/dist-packages/playwright/driver/package/lib/server/registry/index.js:674:43)\n",
            "    at async t.<anonymous> (/usr/local/lib/python3.10/dist-packages/playwright/driver/package/lib/cli/program.js:119:7)\n"
          ]
        }
      ]
    },
    {
      "cell_type": "markdown",
      "source": [
        "Beautiful Soup은 HTML 및 XML 문서를 파싱하기 위한 Python 패키지입니다(잘못 형성된 마크업, 즉 닫히지 않은 태그를 포함하여, 태그 수프라고 불립니다).\n",
        "\n",
        "파싱된 페이지에 대한 파싱 트리를 생성하여 HTML에서 데이터를 추출하는 데 사용할 수 있으며, 이는 웹 스크래핑에 유용합니다.\n",
        "\n",
        "Beautiful Soup은 HTML 내용에 대한 세밀한 제어를 제공하여, 특정 태그의 추출, 제거 및 내용 정리를 가능하게 합니다.\n",
        "\n",
        "특정 정보를 추출하고 HTML 내용을 필요에 따라 정리하고자 하는 경우에 적합합니다.\n",
        "\n",
        "예를 들어, HTML 내용에서 ```<p>, <li>, <div>, <a>``` 태그 내의 텍스트 내용을 스크래핑할 수 있습니다.\n",
        "\n",
        "```<p>```: 단락 태그입니다. HTML에서 단락을 정의하며 관련된 문장 및/또는 구절을 함께 그룹화하는 데 사용됩니다.\n",
        "\n",
        "```<li>```: 목록 항목 태그입니다. 순서가 있는 (```<ol>```) 및 순서가 없는 (```<ul>```) 목록 내에서 개별 항목을 정의하는 데 사용됩니다.\n",
        "\n",
        "```<div>```: 구분 태그입니다. 블록 수준 요소로 다른 인라인 또는 블록 수준 요소를 그룹화하는 데 사용됩니다.\n",
        "\n",
        "```<a>```: 앵커 태그입니다. 하이퍼링크를 정의하는 데 사용됩니다.\n",
        "\n"
      ],
      "metadata": {
        "id": "2mH_vJ4lmMhh"
      }
    },
    {
      "cell_type": "code",
      "execution_count": null,
      "metadata": {
        "id": "Jg7oyUXykGeG"
      },
      "outputs": [],
      "source": [
        "from langchain_community.document_loaders import AsyncChromiumLoader\n",
        "\n",
        "urls = [\"https://news.naver.com\"]  # 크롤링할 URL 목록을 설정합니다.\n",
        "# AsyncChromiumLoader를 사용하여 URL에서 비동기적으로 문서를 로드합니다.\n",
        "loader = AsyncChromiumLoader(urls)\n",
        "docs = loader.load()  # 로드된 문서를 가져옵니다.\n"
      ]
    },
    {
      "cell_type": "markdown",
      "source": [
        "아래의 코드는 로드한 웹페이지에서 특정 태그를 추출하는 예시입니다."
      ],
      "metadata": {
        "id": "8RjDGSVJoK7t"
      }
    },
    {
      "cell_type": "code",
      "source": [
        "from langchain_community.document_transformers import BeautifulSoupTransformer\n",
        "\n",
        "# 변환 작업\n",
        "bs_transformer = BeautifulSoupTransformer()\n",
        "# HTML 문서를 변환합니다. p, li, div, a 태그의 내용을 추출합니다.\n",
        "docs_transformed = bs_transformer.transform_documents(\n",
        "    docs,\n",
        "    # tags_to_extract=[\"p\", \"li\", \"div\", \"a\"]\n",
        "    tags_to_extract=[\"a\"],\n",
        ")\n",
        "# a 태그의 내용을 출력합니다.\n",
        "print(docs_transformed[0].page_content[:1000])"
      ],
      "metadata": {
        "colab": {
          "base_uri": "https://localhost:8080/"
        },
        "id": "H3m0Lh4goL3e",
        "outputId": "17519f7a-e8bd-43d3-ecc9-56364bf1018a"
      },
      "execution_count": null,
      "outputs": [
        {
          "output_type": "stream",
          "name": "stdout",
          "text": [
            "본문 바로가기 (#ct) NAVER 뉴스  (https://entertain.naver.com/home) 연예  (https://entertain.naver.com/home)  (https://sports.news.naver.com/index) 스포츠  (https://sports.news.naver.com/index)  (https://weather.naver.com/) 날씨  (https://weather.naver.com/)  (https://contents.premium.naver.com/) 프리미엄  (https://contents.premium.naver.com/) 도움말 (https://help.naver.com/support/alias/search/word/word_32.naver) 전체삭제 (javascript:;) 자동저장 (javascript:;) 끄기 켜기 도움말 (https://help.naver.com/support/alias/search/word/word_32.naver) 도움말 (https://help.naver.com/support/alias/search/word/word_48.naver) 신고 (https://help.naver.com/support/alias/search/word/word_18.naver) 검색 언론사별 정치 경제 사회 생활/문화 IT/과학 세계 랭킹 신문보기 오피니언 TV 팩트체크 알고리즘 안내 정정보도 모음 전체 언론사 (https://news.naver.com/main/officeList.naver ) 뉴스스탠드 (https://newsstand.naver.com/) 라이브러리 (https://newslibrary.naver.com/search/searchByDate.naver)  (#feedJournalistCard) 기자  (#feedJournalistCard)  (#feedSeriesCard) 연재  (#feedSeriesCard) 구독설정 (https://media.naver.com/channel/\n"
          ]
        }
      ]
    }
  ]
}